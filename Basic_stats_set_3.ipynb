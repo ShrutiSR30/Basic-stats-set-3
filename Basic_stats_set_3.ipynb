{
  "nbformat": 4,
  "nbformat_minor": 0,
  "metadata": {
    "colab": {
      "name": "Basic stats-set 3",
      "provenance": []
    },
    "kernelspec": {
      "name": "python3",
      "display_name": "Python 3"
    },
    "language_info": {
      "name": "python"
    }
  },
  "cells": [
    {
      "cell_type": "markdown",
      "metadata": {
        "id": "iJZ1TEYdTqCW"
      },
      "source": [
        "# **Topics**: **Confidence Intervals**"
      ]
    },
    {
      "cell_type": "markdown",
      "metadata": {
        "id": "xg1dhpr2Tqc0"
      },
      "source": [
        "\n",
        "1.\tFor each of the following statements, indicate whether it is True/False. If false, explain why.\n",
        "\n",
        "I.\tThe sample size of the survey should at least be a fixed percentage of the population size in order to produce representative results.\n",
        "\n",
        "Answer: FALSE\n",
        "Reason: A sample size of 30 is considered large enough, but that may or may not be adequate\n",
        "\n",
        "II.\tThe sampling frame is a list of every item that appears in a survey sample, including those that did not respond to questions.\n",
        "\n",
        "Answer: TRUE\n",
        "Reason: The population is generic and the sampling frame is a specific list of all items in the population. Hence the sampling frame includes those that did not respond to questions\n",
        "\n",
        "III.\tLarger surveys convey a more accurate impression of the population than smaller surveys.\n",
        "\n",
        " Answer:TRUE"
      ]
    },
    {
      "cell_type": "markdown",
      "metadata": {
        "id": "sj6nYNMLT8-p"
      },
      "source": [
        "2.\tPC Magazine asked all of its readers to participate in a survey of their satisfaction with different brands of electronics. In the 2004 survey, which was included in an issue of the magazine that year, more than 9000 readers rated the products on a scale from 1 to 10. The magazine reported that the average rating assigned by 225 readers to a Kodak compact digital camera was 7.5. For this product, identify the following:\n",
        "\n",
        "A.The population : All the readers of PC Magazine\n",
        "B.The parameter of interest \n",
        "C.The sampling frame : Readers that rated the products (around 9000)\n",
        "D.The sample size : 225E.\n",
        "The sampling design \n",
        "F.Any potential sources of bias or other problems with the survey or sample: Selection of the readers, selection of the issue which will contain the survey"
      ]
    },
    {
      "cell_type": "markdown",
      "metadata": {
        "id": "vRyIO7iqWPeM"
      },
      "source": [
        "3.\tFor each of the following statements, indicate whether it is True/False. If false, explain why.\n",
        "\n",
        "I.\tIf the 95% confidence interval for the average purchase of customers at a department store is $50 to $110, then $100 is a plausible value for the population mean at this level of confidence.\n",
        "\n",
        "Answer: TRUE\n",
        "Reason: The 95% confidence interval for the average purchase of customers at a department store is $50 to $110. Which means that there is a 95% chance that the population mean will fall between $50 and $110. Hence, as $100 falls between $50 and $110, it is a plausible value for the population mean at this confidence level\n",
        "\n",
        "II.\tIf the 95% confidence interval for the number of moviegoers who purchase concessions is 30% to 45%, this means that fewer than half of all moviegoers purchase concessions.\n",
        "\n",
        "Answer: TRUE\n",
        "Reason: The 95% confidence interval for the number of moviegoers who purchase concessions is 30% to 45%, this means that there is a 95% chance that only 30 to 45 % of moviegoers purchase concessions, which is less than 50%. Hence, we can infer that fewer than half of all the moviegoers purchase concessions.\n",
        "\n",
        "III.\tThe 95% Confidence-Interval for μ only applies if the sample data are nearly normally distributed.\n",
        "\n",
        "Answer:True\n"
      ]
    },
    {
      "cell_type": "markdown",
      "metadata": {
        "id": "mZOI4mi6XDbD"
      },
      "source": [
        "4.\tWhat are the chances that X ?\n",
        "\n",
        "A.\t¼ \n",
        "B.\t½ \n",
        "C.\t¾ \n",
        "D.\t1\n",
        "\n",
        "Answer:D. 1 (Mean of Sample means is equal to population mean"
      ]
    },
    {
      "cell_type": "markdown",
      "metadata": {
        "id": "fbBKKYEPXav2"
      },
      "source": [
        "5.\tIn January 2005, a company that monitors Internet traffic (WebSideStory) reported that its sampling revealed that the Mozilla Firefox browser launched in 2004 had grabbed a 4.6% share of the market.\n",
        "\n",
        "I.\tIf the sample were based on 2,000 users, could Microsoft conclude that Mozilla has a less than 5% share of the market?\n",
        "ANswer: No\n",
        "\n",
        "II.\tWebSideStory claims that its sample includes all the daily Internet users. If that’s the case, then can Microsoft conclude that Mozilla has a less than 5% share of the market?\n",
        "Answer: Yes\n"
      ]
    },
    {
      "cell_type": "markdown",
      "metadata": {
        "id": "sDHM6UW3X71j"
      },
      "source": [
        "\n",
        "6.\tA book publisher monitors the size of shipments of its textbooks to university bookstores. For a sample of texts used at various schools, the 95% confidence interval for the size of the shipment was 250 ± 45 books. Which, if any, of the following interpretations of this interval are correct?\n",
        "\n",
        "A.\tAll shipments are between 205 and 295 books.\n",
        "Answer: INCORRECT\n",
        "\n",
        "B.\t95% of shipments are between 205 and 295 books.\n",
        "Answer: CORRECT\n",
        "\n",
        "C.\tThe procedure that produced this interval generates ranges that hold the population mean for 95% of samples.\n",
        "Answer: CORRECT\n",
        "\n",
        "D.\tIf we get another sample, then we can be 95% sure that the mean of this second sample is between 205 and 295.\n",
        "Answer: CORRECT\n",
        "\n",
        "E.\tWe can be 95% confident that the range 160 to 340 holds the population mean.\n",
        "Answer: INCORRECT\n"
      ]
    },
    {
      "cell_type": "markdown",
      "metadata": {
        "id": "bWjG8v0VYp45"
      },
      "source": [
        "\n",
        "7.\tWhich is shorter: a 95% z-interval or a 95% t-interval for μ if we know that σ =s?\n",
        "\n",
        "A.\tThe z-interval is shorter\n",
        "B.\tThe t-interval is shorter\n",
        "C.\tBoth are equal\n",
        "D.\tWe cannot say\n",
        "\n",
        "Answer: A. The z-interval is shorter\n",
        "\n",
        "bcoz it tell us difference between mean of distribution and data points in standard deviation"
      ]
    },
    {
      "cell_type": "markdown",
      "metadata": {
        "id": "6sS_mQ2aY84I"
      },
      "source": [
        "Questions 8 and 9 are based on the following: To prepare a report on the economy, analysts need to estimate the percentage of businesses that plan to hire additional employees in the next 60 days.\n",
        "\n",
        "8.\tHow many randomly selected employers (minimum number) must we contact in order to guarantee a margin of error of no more than 4% (at 95% confidence)?\n",
        "\n",
        "A.\t600\n",
        "B.\t400\n",
        "C.\t550\n",
        "D.\t1000\n",
        "\n",
        "Answer: B\n",
        "\n",
        "9.\tSuppose we want the above margin of error to be based on a 98% confidence level. What sample size (minimum) must we now use?\n",
        "\n",
        "A.\t1000\n",
        "B.\t757\n",
        "C.\t848\n",
        "D.\t543\n",
        "\n",
        "Answer: D\n"
      ]
    }
  ]
}